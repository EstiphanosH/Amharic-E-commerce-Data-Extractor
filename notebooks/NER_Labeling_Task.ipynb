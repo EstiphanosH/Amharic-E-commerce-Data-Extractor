{
 "cells": [
  {
   "cell_type": "markdown",
   "id": "86c306a7",
   "metadata": {},
   "source": [
    "\n",
    "# Named Entity Recognition (NER) Labeling\n",
    "## Task 2: CoNLL Format Annotation\n",
    " \n",
    "This notebook helps you label Amharic text data in CoNLL format for NER tasks.\n",
    " \n",
    "### Steps:\n",
    "1. Run the preprocessing pipeline to generate labeling sample\n",
    "2. Execute the CLI annotator tool\n",
    "3. Label each token following the instructions\n",
    "4. Save the labeled CoNLL file\n",
    " \n",
    "**Entity Types:**\n",
    "- `B-PRODUCT`, `I-PRODUCT`: Product names\n",
    "- `B-LOC`, `I-LOC`: Location names\n",
    "- `B-PRICE`, `I-PRICE`: Prices and currencies\n",
    "- `O`: Non-entity tokens"
   ]
  },
  {
   "cell_type": "code",
   "execution_count": null,
   "id": "16f5c360",
   "metadata": {
    "vscode": {
     "languageId": "plaintext"
    }
   },
   "outputs": [],
   "source": [
    "# Install required packages\n",
    "!pip install pandas tqdm\n",
    "\n",
    "# %%\n",
    "import pandas as pd\n",
    "import os\n",
    "from scripts.conll_annotator import CoNLLAnnotator\n",
    "\n",
    "\n",
    "## Step 1: Generate Labeling Sample\n",
    "\n",
    "SAMPLE_PATH = 'ner_labeling_sample.csv'\n",
    "\n",
    "if not os.path.exists(SAMPLE_PATH):\n",
    "    print(\"Sample file not found! Generating sample...\")\n",
    "    \n",
    "    # Check if processed data exists\n",
    "    if not os.path.exists('structured_data/content.csv'):\n",
    "        print(\"Processed data not found! Please run preprocessing first.\")\n",
    "        print(\"Refer to the preprocessing notebook to generate this data.\")\n",
    "    else:\n",
    "        # Load processed content\n",
    "        content = pd.read_csv('structured_data/content.csv')\n",
    "        \n",
    "        # Convert tokens from string to list\n",
    "        content['tokens'] = content['tokens'].apply(eval)\n",
    "        \n",
    "        # Select sample\n",
    "        labeling_sample = content.sample(50, random_state=42)[['message_id', 'cleaned_text', 'tokens']]\n",
    "        labeling_sample.to_csv(SAMPLE_PATH, index=False)\n",
    "        print(f\"Generated labeling sample with 50 messages: {SAMPLE_PATH}\")\n",
    "else:\n",
    "    print(f\"Labeling sample found: {SAMPLE_PATH}\")\n",
    "    print(f\"Messages available: {len(pd.read_csv(SAMPLE_PATH))}\")\n"
   ]
  },
  {
   "cell_type": "code",
   "execution_count": null,
   "id": "e27d1fa4",
   "metadata": {
    "vscode": {
     "languageId": "plaintext"
    }
   },
   "outputs": [],
   "source": [
    "# ## Step 2: Run Annotation Tool\n",
    "\n",
    "# Initialize and run annotator\n",
    "if os.path.exists(SAMPLE_PATH):\n",
    "    annotator = CoNLLAnnotator(SAMPLE_PATH)\n",
    "    annotator.start_cli_labeling()\n",
    "else:\n",
    "    print(\"Cannot start annotator: Sample file missing\")"
   ]
  },
  {
   "cell_type": "code",
   "execution_count": null,
   "id": "a8c2d82d",
   "metadata": {
    "vscode": {
     "languageId": "plaintext"
    }
   },
   "outputs": [],
   "source": [
    "# ## Step 3: Verify Labeled Data\n",
    "!head -n 10 labeled_data.conll\n",
    "\n",
    "\n",
    "# %% [markdown]\n"
   ]
  },
  {
   "cell_type": "code",
   "execution_count": null,
   "id": "d8ea9e1d",
   "metadata": {
    "vscode": {
     "languageId": "plaintext"
    }
   },
   "outputs": [],
   "source": [
    "# ## Step 4: Proceed to Model Training\n",
    "# \n",
    "# Your labeled data is now ready! You can use this CoNLL file for:\n",
    "# - Fine-tuning NER models (Task 3)\n",
    "# - Model comparison (Task 4)\n",
    "# \n",
    "# File saved as: `labeled_data.conll`"
   ]
  }
 ],
 "metadata": {
  "language_info": {
   "name": "python"
  }
 },
 "nbformat": 4,
 "nbformat_minor": 5
}
